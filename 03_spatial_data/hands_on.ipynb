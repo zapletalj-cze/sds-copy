{
  "cells": [
    {
      "cell_type": "markdown",
      "id": "a29028c9-ea12-4a9d-a91d-971788d1c0e9",
      "metadata": {},
      "source": [
        "# Bring in geography\n",
        "\n",
        "It is time to get your hands on some spatial data. You will not go far\n",
        "from your `pandas` experience, you’ll just expand it a bit. This section\n",
        "covers an introduction to `geopandas`, a Python package extending the\n",
        "capabilities of `pandas` by providing support for geometries,\n",
        "projections and geospatial file formats. Let’s start with importing\n",
        "`geopandas`."
      ]
    },
    {
      "cell_type": "code",
      "execution_count": 2,
      "id": "6daa587f",
      "metadata": {},
      "outputs": [],
      "source": [
        "import geopandas as gpd"
      ]
    },
    {
      "cell_type": "markdown",
      "id": "bce17707-3187-40b6-9094-08ce605d92f9",
      "metadata": {},
      "source": [
        "## Datasets\n",
        "\n",
        "You will be using a few different datasets in this notebook. The first\n",
        "one contains data on buildings, streets and street junctions of a small\n",
        "part of Paris from @fleischmann2021Evolution. The data contain some\n",
        "information on urban morphology derived from these geometries, but\n",
        "today, you will be mostly interested in geometries, not so much in\n",
        "attributes.\n",
        "\n",
        "## Reading files\n",
        "\n",
        "Assuming you have a file containing both data and geometry\n",
        "(e.g. GeoPackage, GeoJSON, Shapefile), you can read it using\n",
        "`geopandas.read_file()`, which automatically detects the file type and\n",
        "creates a `geopandas.GeoDataFrame`. A `geopandas.GeoDataFrame` is just\n",
        "like `pandas.DataFrame` but with additional column(s) containing\n",
        "geometry."
      ]
    },
    {
      "cell_type": "code",
      "execution_count": null,
      "id": "0da053f5",
      "metadata": {},
      "outputs": [],
      "source": [
        "paris_url = (\n",
        "    \"https://github.com/martinfleis/evolution-gean/raw/main/data/Paris.gpkg\"\n",
        ")\n",
        "buildings = gpd.read_file(paris_url, layer=\"buildings\")\n",
        "buildings.head()"
      ]
    },
    {
      "cell_type": "markdown",
      "id": "3ba3cdd2-e16f-4bdd-8b01-38eb80346f4c",
      "metadata": {},
      "source": [
        "> **Explore available layers**\n",
        ">\n",
        "> You can quickly check which layers are available in the GPKG file\n",
        "> using `geopandas.list_layers()`.\n",
        ">\n",
        "> ``` python\n",
        "> gpd.list_layers(paris_url)\n",
        "> ```\n",
        ">\n",
        "> <div>\n",
        "> <style scoped>\n",
        ">     .dataframe tbody tr th:only-of-type {\n",
        ">         vertical-align: middle;\n",
        ">     }\n",
        ">\n",
        ">     .dataframe tbody tr th {\n",
        ">         vertical-align: top;\n",
        ">     }\n",
        ">\n",
        ">     .dataframe thead th {\n",
        ">         text-align: right;\n",
        ">     }\n",
        "> </style>\n",
        ">\n",
        "> |     | name         | geometry_type |\n",
        "> |-----|--------------|---------------|\n",
        "> | 0   | tessellation | Unknown       |\n",
        "> | 1   | buildings    | Polygon       |\n",
        "> | 2   | edges        | LineString    |\n",
        "> | 3   | nodes        | Point         |\n",
        ">\n",
        "> </div>\n",
        "\n",
        "Let’s have a quick look at the `\"geometry\"` column. This is the special\n",
        "one enabled by `geopandas`. You can notice that the objects stored in\n",
        "this column are not `float` or `string` but Polygons of a `geometry`\n",
        "data type instead. The column is also a `geopandas.GeoSeries` instead of\n",
        "a `pandas.Series`."
      ]
    },
    {
      "cell_type": "code",
      "execution_count": null,
      "id": "13f0a961",
      "metadata": {},
      "outputs": [],
      "source": [
        "buildings[\"geometry\"].head()"
      ]
    },
    {
      "cell_type": "markdown",
      "id": "b0d6f399-083b-415a-8afb-7bf72a65b810",
      "metadata": {},
      "source": [
        "Polygons are not the only geometry types you can work with. The same\n",
        "GPKG that contains buildings data also includes street network\n",
        "geometries of a LineString geometry type."
      ]
    },
    {
      "cell_type": "code",
      "execution_count": null,
      "id": "e74030da",
      "metadata": {},
      "outputs": [],
      "source": [
        "street_edges = gpd.read_file(paris_url, layer=\"edges\")\n",
        "street_edges.head(2)"
      ]
    },
    {
      "cell_type": "markdown",
      "id": "f1576331-04fe-46fb-987f-98d05da877dc",
      "metadata": {},
      "source": [
        "You can also load another layer, this time with Point geometries\n",
        "representing street network junctions."
      ]
    },
    {
      "cell_type": "code",
      "execution_count": null,
      "id": "4c269f21",
      "metadata": {},
      "outputs": [],
      "source": [
        "street_nodes = gpd.read_file(paris_url, layer=\"nodes\")\n",
        "street_nodes.head(2)"
      ]
    },
    {
      "cell_type": "markdown",
      "id": "2ae461d5-ff13-486e-94ba-cba5c2eb843b",
      "metadata": {},
      "source": [
        "## Writing files\n",
        "\n",
        "To write a `GeoDataFrame` back to a file, use `GeoDataFrame.to_file()`.\n",
        "The file is format automatically inferred from the suffix, but you can\n",
        "specify your own with the `driver=` keyword. When no suffix is given,\n",
        "GeoPandas expects that you want to create a folder with an ESRI\n",
        "Shapefile."
      ]
    },
    {
      "cell_type": "code",
      "execution_count": 7,
      "id": "4b198ba7",
      "metadata": {},
      "outputs": [],
      "source": [
        "buildings.to_file(\"buildings.geojson\")"
      ]
    },
    {
      "cell_type": "markdown",
      "id": "d65d76cf-cea9-4f90-a946-6f6e966d0ee1",
      "metadata": {},
      "source": [
        "## Geometries\n",
        "\n",
        "Geometries within the *geometry* column are `shapely` objects. GeoPandas\n",
        "itself is not creating the object but leverages the existing ecosystem\n",
        "(note that there is a significant overlap of the team writing both\n",
        "packages to ensure synergy). A typical `GeoDataFrame` contains a single\n",
        "geometry column, as you know from traditional GIS software. If you read\n",
        "it from a file, it will most likely be called `\"geometry\"`, but that is\n",
        "not always the case. Furthermore, a `GeoDataFrame` can contain multiple\n",
        "geometry columns (e.g., one with polygons, another with their centroids\n",
        "and another with bounding boxes), of which one is considered *active*.\n",
        "You can always get this active column, no matter its name, by using\n",
        "`.geometry` property."
      ]
    },
    {
      "cell_type": "code",
      "execution_count": null,
      "id": "febde463",
      "metadata": {},
      "outputs": [],
      "source": [
        "buildings.geometry.head()"
      ]
    },
    {
      "cell_type": "markdown",
      "id": "4394e8a8-0385-4ed8-b864-0855432b6c53",
      "metadata": {},
      "source": [
        "> **Property vs indexing**\n",
        ">\n",
        "> In data frames, you can usually access a column via indexer\n",
        "> (`df[\"column_name\"]`) or a property (`df.column_name`). However, the\n",
        "> property is not available when there is either a method (e.g. `.plot`)\n",
        "> or a built-in property (e.g. `.crs` or `.geometry`) overriding this\n",
        "> option.\n",
        "\n",
        "You can quickly check that the geometry is a data type indeed coming\n",
        "from `shapely`. You will use `shapely` directly in some occasions but in\n",
        "most cases, any interaction with `shapely` will be handled by\n",
        "`geopandas`."
      ]
    },
    {
      "cell_type": "code",
      "execution_count": null,
      "id": "45262d2f",
      "metadata": {},
      "outputs": [],
      "source": [
        "type(buildings.geometry.loc[0])"
      ]
    },
    {
      "cell_type": "markdown",
      "id": "cbe907c8-cd3b-4969-b208-bba996b01ea6",
      "metadata": {},
      "source": [
        "There is also a handy SVG representation if you are in a Jupyter\n",
        "Notebook."
      ]
    },
    {
      "cell_type": "code",
      "execution_count": null,
      "id": "ff4b33be",
      "metadata": {},
      "outputs": [],
      "source": [
        "buildings.geometry.loc[0]"
      ]
    },
    {
      "cell_type": "markdown",
      "id": "7ed3a455-0534-41fe-8e08-66ff60fc9613",
      "metadata": {},
      "source": [
        "If you’d rather see a text representation, you can retrieve a Well-Known\n",
        "Text using `.wkt` property."
      ]
    },
    {
      "cell_type": "code",
      "execution_count": null,
      "id": "a1457b6b",
      "metadata": {},
      "outputs": [],
      "source": [
        "buildings.geometry.loc[0].wkt"
      ]
    },
    {
      "cell_type": "markdown",
      "id": "999741ce-14c4-4ae0-88ee-a1818704b31d",
      "metadata": {},
      "source": [
        "## Projections\n",
        "\n",
        "But without an assigned coordinate reference system (CRS), you don’t\n",
        "know where this shape lies on Earth. Therefore, each geometry column has\n",
        "(optionally) assigned a CRS. That is always available via `.crs`."
      ]
    },
    {
      "cell_type": "code",
      "execution_count": null,
      "id": "a23116a3",
      "metadata": {},
      "outputs": [],
      "source": [
        "buildings.crs"
      ]
    },
    {
      "cell_type": "markdown",
      "id": "0c0f0653-b565-46bf-b42b-12155198a5da",
      "metadata": {},
      "source": [
        "If you check the type, you’ll notice it comes from the `pyproj` package.\n",
        "Note that you will likely never interact with that yourself."
      ]
    },
    {
      "cell_type": "code",
      "execution_count": null,
      "id": "abf4b173",
      "metadata": {},
      "outputs": [],
      "source": [
        "type(buildings.crs)"
      ]
    },
    {
      "cell_type": "markdown",
      "id": "1d560370-f06c-4d87-b826-9423545c865a",
      "metadata": {},
      "source": [
        "The object with the CRS information has plenty of useful tricks. You\n",
        "can, for example, quickly check if it is a geographic (coordinates are\n",
        "latitude and longitude in degrees) or a projected CRS (x and y in\n",
        "meters, feet or similar)."
      ]
    },
    {
      "cell_type": "code",
      "execution_count": null,
      "id": "894b3615",
      "metadata": {},
      "outputs": [],
      "source": [
        "buildings.crs.is_geographic"
      ]
    },
    {
      "cell_type": "markdown",
      "id": "7bca1b71-17c0-456e-83c2-809a4b3f2e8d",
      "metadata": {},
      "source": [
        "`geopandas` is like a glue that brings different pieces of the Python\n",
        "ecosystem together. `pandas` for tabular data, `shapely` for geometries,\n",
        "`pyogrio` for interaction with GIS file formats or `pyproj` for CRS\n",
        "management.\n",
        "\n",
        "## Simple accessors and methods\n",
        "\n",
        "Now you have a `GeoDataFrame` and can start working with its geometry.\n",
        "\n",
        "Since there was only one geometry column in the buildings dataset, this\n",
        "column automatically becomes the *active* geometry and spatial methods\n",
        "used on the `GeoDataFrame` will be applied to the `\"geometry\"` column.\n",
        "\n",
        "### Measuring area\n",
        "\n",
        "To measure the area of each polygon, access the `GeoDataFrame.area`\n",
        "attribute, which returns a `pandas.Series`. Note that\n",
        "`GeoDataFrame.area` is just `GeoSeries.area` applied to the *active*\n",
        "geometry column."
      ]
    },
    {
      "cell_type": "code",
      "execution_count": null,
      "id": "3a53a3bb",
      "metadata": {},
      "outputs": [],
      "source": [
        "buildings[\"area\"] = buildings.area\n",
        "buildings[\"area\"].head()"
      ]
    },
    {
      "cell_type": "markdown",
      "id": "b8d7a990-373f-4241-98a2-41819038e378",
      "metadata": {},
      "source": [
        "### Getting polygon boundary and centroid\n",
        "\n",
        "`geopandas` allows you a quick manipulation of geometries. For example,\n",
        "to get the boundary of each polygon (of a LineString geometry type),\n",
        "access the `GeoDataFrame.boundary` property:"
      ]
    },
    {
      "cell_type": "code",
      "execution_count": null,
      "id": "e1846d97",
      "metadata": {},
      "outputs": [],
      "source": [
        "buildings[\"boundary\"] = buildings.boundary\n",
        "buildings[\"boundary\"].head()"
      ]
    },
    {
      "cell_type": "markdown",
      "id": "34ac50cf-2331-4565-a806-9c5c962797ad",
      "metadata": {},
      "source": [
        "Since you have saved the boundary as a new column, you now have two\n",
        "geometry columns in the same `GeoDataFrame`.\n",
        "\n",
        "You can also create new geometries, which could be, for example, a\n",
        "buffered version of the original one (i.e., `GeoDataFrame.buffer(10)` to\n",
        "buffer by 10 meters if your CRS is in meters) or its centroid:"
      ]
    },
    {
      "cell_type": "code",
      "execution_count": null,
      "id": "b65655eb",
      "metadata": {},
      "outputs": [],
      "source": [
        "buildings[\"centroid\"] = buildings.centroid\n",
        "buildings[\"centroid\"].head()"
      ]
    },
    {
      "cell_type": "markdown",
      "id": "58899a2f-9f67-46b1-8c43-6a00dd062f82",
      "metadata": {},
      "source": [
        "### Measuring distance\n",
        "\n",
        "Measuring distance is similarly straightforward. The building data are\n",
        "from central Paris, so you can try to figure out how far is each of them\n",
        "from the [Arc de\n",
        "Triomphe](https://en.wikipedia.org/wiki/Arc_de_Triomphe).\n",
        "\n",
        "Use the coordinates of the Arc de Triomphe to generate a Point geometry."
      ]
    },
    {
      "cell_type": "code",
      "execution_count": 18,
      "id": "9cf0b2b6",
      "metadata": {},
      "outputs": [],
      "source": [
        "arc = gpd.GeoSeries.from_xy(x=[2.29503], y=[48.87377], crs=\"EPSG:4326\")"
      ]
    },
    {
      "cell_type": "markdown",
      "id": "8ea423eb-adab-4cc9-bf39-a6e9e6fce984",
      "metadata": {},
      "source": [
        "> **Use geocoding to get the geometry**\n",
        ">\n",
        "> The code above uses known coordinates. If you don’t know them but know\n",
        "> the address and a name of a place, you can use the built-in geocoding\n",
        "> capabilities in `geopandas`:\n",
        ">\n",
        "> ``` py\n",
        "> arc = gpd.tools.geocode(\"Arc de Triomphe, Paris\")\n",
        "> ```\n",
        "\n",
        "Now you have the Arc de Triomphe as a Point. However, that point is in\n",
        "latitude and longitude coordinates, which is a different CRS than the\n",
        "one `buildings` use. They must use the same CRS to measure the distance\n",
        "between geometries."
      ]
    },
    {
      "cell_type": "code",
      "execution_count": null,
      "id": "a8a35808",
      "metadata": {},
      "outputs": [],
      "source": [
        "arc = arc.to_crs(buildings.crs)\n",
        "arc"
      ]
    },
    {
      "cell_type": "markdown",
      "id": "d9a24190-3580-405a-b88e-01c82f230355",
      "metadata": {},
      "source": [
        "With a Point based on the correct CRS, you can measure the distance from\n",
        "each building to the Arc."
      ]
    },
    {
      "cell_type": "code",
      "execution_count": null,
      "id": "2a652088",
      "metadata": {},
      "outputs": [],
      "source": [
        "arc_location = arc.geometry.item()\n",
        "buildings[\"distance_to_arc\"] = buildings.distance(arc_location)\n",
        "buildings[\"distance_to_arc\"].head()"
      ]
    },
    {
      "cell_type": "markdown",
      "id": "7d9cd808-324b-471a-b4c4-496e14c6fe78",
      "metadata": {},
      "source": [
        "Using `buildings.distance(arc_location)` measures the distance from\n",
        "geometries in the active geometry column, which are Polygons in this\n",
        "case. But you can also measure distance from geometries in any other\n",
        "column."
      ]
    },
    {
      "cell_type": "code",
      "execution_count": null,
      "id": "854c8107",
      "metadata": {},
      "outputs": [],
      "source": [
        "buildings[\"centroid\"].distance(arc_location).head()"
      ]
    },
    {
      "cell_type": "markdown",
      "id": "cfc9b52a-b238-4648-b493-adf3900f9e59",
      "metadata": {},
      "source": [
        "Note that `geopandas.GeoDataFrame` is a subclass of `pandas.DataFrame`,\n",
        "so you have all the `pandas` functionality available to use on the\n",
        "geospatial dataset — you can even perform data manipulations with the\n",
        "attributes and geometry information together.\n",
        "\n",
        "For example, to calculate the average of the distances measured above,\n",
        "access the `\"distance\"` column and call the `.mean()` method on it:"
      ]
    },
    {
      "cell_type": "code",
      "execution_count": null,
      "id": "2ad8a1e8",
      "metadata": {},
      "outputs": [],
      "source": [
        "buildings[\"distance_to_arc\"].mean()"
      ]
    },
    {
      "cell_type": "markdown",
      "id": "eaf1eb9d-5586-4acc-a0db-33faae9484fe",
      "metadata": {},
      "source": [
        "Similarly, you can plot the distribution of distances as a histogram."
      ]
    },
    {
      "cell_type": "code",
      "execution_count": null,
      "id": "e0d1f134",
      "metadata": {},
      "outputs": [],
      "source": [
        "_ = buildings[\"distance_to_arc\"].plot.hist(bins=50)"
      ]
    },
    {
      "cell_type": "markdown",
      "id": "67d58a1d-6369-4274-9fde-776286bdcf02",
      "metadata": {},
      "source": [
        "## Making maps\n",
        "\n",
        "Maps in GeoPandas are of two kinds. Static images and interactive maps\n",
        "based on [leaflet.js](http://leafletjs.com).\n",
        "\n",
        "### Static maps\n",
        "\n",
        "GeoPandas can also plot maps to check how the geometries appear in\n",
        "space. Call `GeoDataFrame.plot()` to plot the active geometry. To colour\n",
        "code by another column, pass in that column as the first argument. In\n",
        "the example below, you can plot the active geometry column and colour\n",
        "code by the `\"distance_to_arc\"` column. You may also want to show a\n",
        "legend (`legend=True`)."
      ]
    },
    {
      "cell_type": "code",
      "execution_count": null,
      "id": "47f6015d",
      "metadata": {},
      "outputs": [],
      "source": [
        "_ = buildings.plot(\"distance_to_arc\", legend=True)"
      ]
    },
    {
      "cell_type": "markdown",
      "id": "1408d607-90ad-44e2-9608-96cdd47e2c8c",
      "metadata": {},
      "source": [
        "The map is created using the `matplotlib` package. It’s the same that\n",
        "was used under the hood for all the plots you have done before. You can\n",
        "use it directly to save the resulting plot to a PNG file."
      ]
    },
    {
      "cell_type": "code",
      "execution_count": 25,
      "id": "fcb56cb4",
      "metadata": {},
      "outputs": [],
      "source": [
        "import matplotlib.pyplot as plt"
      ]
    },
    {
      "cell_type": "markdown",
      "id": "86fde2d4-0df7-4c1c-b72c-e48f2017dccb",
      "metadata": {},
      "source": [
        "If you now create the plot and use the `plt.savefig()` function in the\n",
        "same cell, a PNG will appear on your disk.\n",
        "\n",
        "``` py\n",
        "buildings.plot(\"distance_to_arc\", legend=True)\n",
        "plt.savefig(\"distance_to_arc.png\", dpi=150)\n",
        "```\n",
        "\n",
        "> **Other resources for static plotting**\n",
        ">\n",
        "> Want to know more about static plots? Check [this\n",
        "> chapter](https://darribas.org/gds_course/content/bC/lab_C.html#styling-plots)\n",
        "> of *A Course on Geographic Data Science* by @darribas_gds_course or\n",
        "> [the GeoPandas\n",
        "> documentation](https://geopandas.org/en/stable/docs/user_guide/mapping.html).\n",
        "\n",
        "### Interactive maps\n",
        "\n",
        "You can also explore your data interactively using\n",
        "`GeoDataFrame.explore()`, which behaves in the same way `.plot()` does\n",
        "but returns an interactive HTML map instead."
      ]
    },
    {
      "cell_type": "code",
      "execution_count": 1,
      "id": "464fd003",
      "metadata": {},
      "outputs": [
        {
          "ename": "NameError",
          "evalue": "name 'buildings' is not defined",
          "output_type": "error",
          "traceback": [
            "\u001b[1;31m---------------------------------------------------------------------------\u001b[0m",
            "\u001b[1;31mNameError\u001b[0m                                 Traceback (most recent call last)",
            "Cell \u001b[1;32mIn[1], line 1\u001b[0m\n\u001b[1;32m----> 1\u001b[0m \u001b[43mbuildings\u001b[49m\u001b[38;5;241m.\u001b[39mexplore(\u001b[38;5;124m\"\u001b[39m\u001b[38;5;124mdistance_to_arc\u001b[39m\u001b[38;5;124m\"\u001b[39m, legend\u001b[38;5;241m=\u001b[39m\u001b[38;5;28;01mTrue\u001b[39;00m)\n",
            "\u001b[1;31mNameError\u001b[0m: name 'buildings' is not defined"
          ]
        }
      ],
      "source": [
        "buildings.explore(\"distance_to_arc\", legend=True)"
      ]
    },
    {
      "cell_type": "markdown",
      "id": "f05496c7-8384-4c05-aa29-12d496b58b74",
      "metadata": {},
      "source": [
        "Using the `GeoSeries` of centroids, you can create a similar plot, but\n",
        "since you access only a single column, it has no values to show."
      ]
    },
    {
      "cell_type": "code",
      "execution_count": null,
      "id": "0ab42363",
      "metadata": {},
      "outputs": [],
      "source": [
        "buildings[\"centroid\"].explore()"
      ]
    },
    {
      "cell_type": "markdown",
      "id": "915d2530-dca8-4de6-80cf-a580644eeea2",
      "metadata": {},
      "source": [
        "> **Keeping data around**\n",
        ">\n",
        "> If you want to use centroids on a map but keep the data around to have\n",
        "> them available in the tooltip, you can assign it as an active geometry\n",
        "> and then use `.explore()`.\n",
        ">\n",
        "> ``` python\n",
        "> buildings.set_geometry(\"centroid\").explore()\n",
        "> ```\n",
        "\n",
        "You can also layer multiple geometry layers on top of each other. You\n",
        "just need to use one plot as a map (`m`) object for the others."
      ]
    },
    {
      "cell_type": "code",
      "execution_count": null,
      "id": "fad8965d",
      "metadata": {},
      "outputs": [],
      "source": [
        "m = buildings.explore(tiles=\"CartoDB Positron\", popup=True, tooltip=False)\n",
        "street_edges.explore(m=m, color=\"black\")\n",
        "street_nodes.explore(m=m, color=\"pink\")\n",
        "arc.explore(m=m, marker_type=\"marker\")\n",
        "m.save(\"paris-map.html\")\n",
        "m"
      ]
    },
    {
      "cell_type": "markdown",
      "id": "4f7a7dfb-837d-45cf-86c0-a742e90b9ec4",
      "metadata": {},
      "source": [
        "## Spatial predicates\n",
        "\n",
        "Spatial predicates tell you the spatial relation between two geometries.\n",
        "Are they equal, intersect, overlap, or are they within another?\n",
        "\n",
        "Let’s leave Paris and load a map of countries provided by\n",
        "@runfola2020geoboundaries and simplified for this course."
      ]
    },
    {
      "cell_type": "code",
      "execution_count": 29,
      "id": "0ad9a9a0",
      "metadata": {},
      "outputs": [],
      "source": [
        "world_countries = gpd.read_file(\n",
        "    \"https://martinfleischmann.net/sds/geographic_data/data/geoboundaries_cgaz.gpkg\",\n",
        ")"
      ]
    },
    {
      "cell_type": "markdown",
      "id": "b531721b-6fd7-452a-ae3f-9c3b48db18ac",
      "metadata": {},
      "source": [
        "> **Alternative**\n",
        ">\n",
        "> Instead of reading the file directly off the web, it is possible to\n",
        "> download it manually, store it on your computer, and read it locally.\n",
        "> To do that, you can follow these steps:\n",
        ">\n",
        "> 1.  Download the file by right-clicking on [this\n",
        ">     link](https://martinfleischmann.net/sds/geographic_data/data/geoboundaries_cgaz.gpkg)\n",
        ">     and saving the file\n",
        "> 2.  Place the file in the same folder as the notebook where you intend\n",
        ">     to read it\n",
        "> 3.  Replace the code in the cell above with:\n",
        ">\n",
        "> ``` python\n",
        "> world_countries = gpd.read_file(\"geoboundaries_cgaz.gpkg\")\n",
        "> ```\n",
        "\n",
        "Since you’ll be exploring spatial predicates, you need a second layer.\n",
        "Let’s load a data set of populated places from [Natural\n",
        "Earth](https://www.naturalearthdata.com)."
      ]
    },
    {
      "cell_type": "code",
      "execution_count": 30,
      "id": "3d66e96b",
      "metadata": {},
      "outputs": [],
      "source": [
        "world_cities = gpd.read_file(\n",
        "    \"https://naciscdn.org/naturalearth/110m/cultural/ne_110m_populated_places_simple.zip\"\n",
        ")"
      ]
    },
    {
      "cell_type": "markdown",
      "id": "a35960ef-94ff-41ee-9b15-c84f27dae148",
      "metadata": {},
      "source": [
        "A quick map with both shows how the data look and relate."
      ]
    },
    {
      "cell_type": "code",
      "execution_count": null,
      "id": "f49bfb51",
      "metadata": {},
      "outputs": [],
      "source": [
        "ax = world_countries.plot()\n",
        "_ = world_cities.plot(ax=ax, color=\"pink\", alpha=0.7)"
      ]
    },
    {
      "cell_type": "markdown",
      "id": "b487efef-1bec-4074-bf2c-bfabfc6eb212",
      "metadata": {},
      "source": [
        "Let’s first create some small toy spatial objects. First, extract a\n",
        "polygon representing Belgium."
      ]
    },
    {
      "cell_type": "code",
      "execution_count": null,
      "id": "25f2673e",
      "metadata": {},
      "outputs": [],
      "source": [
        "belgium = world_countries.loc[\n",
        "    world_countries[\"shapeGroup\"] == \"BEL\", \"geometry\"\n",
        "].item()\n",
        "belgium"
      ]
    },
    {
      "cell_type": "markdown",
      "id": "34ee0fa9-dfc4-4647-b326-04c96224e6ea",
      "metadata": {},
      "source": [
        "Second, get points representing Paris and Brussels."
      ]
    },
    {
      "cell_type": "code",
      "execution_count": 33,
      "id": "ae23c14e",
      "metadata": {},
      "outputs": [],
      "source": [
        "paris = world_cities.loc[world_cities[\"name\"] == \"Paris\", \"geometry\"].item()\n",
        "brussels = world_cities.loc[world_cities[\"name\"] == \"Brussels\", \"geometry\"].item()"
      ]
    },
    {
      "cell_type": "markdown",
      "id": "980b8a76-d864-4846-bf8b-c6b54ae71e4f",
      "metadata": {},
      "source": [
        "And create a line connecting both cities. Here comes one of those cases\n",
        "when you use `shapely` directly."
      ]
    },
    {
      "cell_type": "code",
      "execution_count": 34,
      "id": "a9f58b6f",
      "metadata": {},
      "outputs": [],
      "source": [
        "import shapely\n",
        "\n",
        "line = shapely.LineString([paris, brussels])"
      ]
    },
    {
      "cell_type": "markdown",
      "id": "4783c279-5e03-40c3-a8ab-4d6d42fcd17d",
      "metadata": {},
      "source": [
        "Let’s visualise those four geometry objects together. To do that, you\n",
        "can create a single `GeoSeries` with all of them. Notice that such a\n",
        "`GeoSeries` contains mixed geometry types (Polygon, two Points,\n",
        "LineString). That may be an issue with some traditional GIS software,\n",
        "but is no problem with `geopandas`."
      ]
    },
    {
      "cell_type": "code",
      "execution_count": null,
      "id": "b77e4f54",
      "metadata": {},
      "outputs": [],
      "source": [
        "gpd.GeoSeries([belgium, paris, brussels, line], crs=world_cities.crs).explore(\n",
        "    marker_type=\"marker\"\n",
        ")"
      ]
    },
    {
      "cell_type": "markdown",
      "id": "bf496b44-578c-4a11-926e-e606b21ce922",
      "metadata": {},
      "source": [
        "You can recognise the shape of Belgium, two markers locating Paris and\n",
        "Brussels and the line connecting them.\n",
        "\n",
        "Brussels, the capital of Belgium, is thus located within Belgium. This\n",
        "is a spatial relationship, and we can test this using the individual\n",
        "shapely geometry objects as follow:"
      ]
    },
    {
      "cell_type": "code",
      "execution_count": null,
      "id": "997e64af",
      "metadata": {},
      "outputs": [],
      "source": [
        "brussels.within(belgium)"
      ]
    },
    {
      "cell_type": "markdown",
      "id": "d9756a48-c985-4e4f-b6e5-66ab227a1194",
      "metadata": {},
      "source": [
        "And using the reverse, Belgium contains Brussels:"
      ]
    },
    {
      "cell_type": "code",
      "execution_count": null,
      "id": "0d3153f5",
      "metadata": {},
      "outputs": [],
      "source": [
        "belgium.contains(brussels)"
      ]
    },
    {
      "cell_type": "markdown",
      "id": "0c148c4c-a4d4-4833-a374-a5365ee019fa",
      "metadata": {},
      "source": [
        "On the other hand, Belgium does not contain Paris:"
      ]
    },
    {
      "cell_type": "code",
      "execution_count": null,
      "id": "7ad5aff1",
      "metadata": {},
      "outputs": [],
      "source": [
        "belgium.contains(paris)"
      ]
    },
    {
      "cell_type": "markdown",
      "id": "c3e29930-bc3e-488a-a67a-c623c620c7a1",
      "metadata": {},
      "source": [
        "Nor Paris is located in Belgium:"
      ]
    },
    {
      "cell_type": "code",
      "execution_count": null,
      "id": "7868e8da",
      "metadata": {},
      "outputs": [],
      "source": [
        "paris.within(belgium)"
      ]
    },
    {
      "cell_type": "markdown",
      "id": "dc09f93c-a4b8-4f74-b610-aa9f239506e5",
      "metadata": {},
      "source": [
        "The straight line you draw from Paris to Brussels is not fully located\n",
        "within Belgium."
      ]
    },
    {
      "cell_type": "code",
      "execution_count": null,
      "id": "c24235d0",
      "metadata": {},
      "outputs": [],
      "source": [
        "belgium.contains(line)"
      ]
    },
    {
      "cell_type": "markdown",
      "id": "29e566a8-c42f-41e3-ae62-211a6fc72829",
      "metadata": {},
      "source": [
        "But it does intersect with it."
      ]
    },
    {
      "cell_type": "code",
      "execution_count": null,
      "id": "42dc2dce",
      "metadata": {},
      "outputs": [],
      "source": [
        "line.intersects(belgium)"
      ]
    },
    {
      "cell_type": "markdown",
      "id": "78cb1aa0-9066-4999-9f6a-6eefd9eb18fc",
      "metadata": {},
      "source": [
        "### Spatial relationships with GeoDataFrames\n",
        "\n",
        "The same methods available on individual `shapely` geometries are also\n",
        "available as methods on `GeoSeries` and `GeoDataFrame` objects.\n",
        "\n",
        "For example, if you call the `.contains()` method on the\n",
        "`world_countries` dataset with the `paris` point, it will do this\n",
        "spatial check for each country in the `world_countries` `GeoDataFrame`."
      ]
    },
    {
      "cell_type": "code",
      "execution_count": null,
      "id": "6e6ed152",
      "metadata": {},
      "outputs": [],
      "source": [
        "world_countries.contains(paris).sum()"
      ]
    },
    {
      "cell_type": "markdown",
      "id": "767f7d4a-55f6-4a61-9911-f6b6aae313ac",
      "metadata": {},
      "source": [
        "Because the above gives us a boolean result, we can use that to filter\n",
        "the dataframe:"
      ]
    },
    {
      "cell_type": "code",
      "execution_count": null,
      "id": "868681f9",
      "metadata": {},
      "outputs": [],
      "source": [
        "world_countries[world_countries.contains(paris)].explore()"
      ]
    },
    {
      "cell_type": "markdown",
      "id": "8cc41cb2-e593-4f52-8d82-06bd1f77b85e",
      "metadata": {},
      "source": [
        "> **Making use of spatial index**\n",
        ">\n",
        "> You could also do the same based on a query over the spatial index.\n",
        "> Custom queries on a spatial index using `GeoDataFrame.sindex.query()`\n",
        "> are often much faster but are also considered advanced usage. Since\n",
        "> GeoPandas wraps them in spatial joins covering most cases, you may not\n",
        "> even need to access `sindex` directly.\n",
        ">\n",
        "> ``` python\n",
        "> world_countries.iloc[world_countries.sindex.query(paris, \"within\")]\n",
        "> ```\n",
        "\n",
        "## Spatial join\n",
        "\n",
        "One of the typical geospatial tasks is a spatial join. Let’s change the\n",
        "data set again and load boundaries of Spanish cities derived from\n",
        "@arribas2019building, which proposes a machine learning algorithm to\n",
        "delineate city boundaries from building footprints.\n",
        "\n",
        "You can try to figure out which of these cities fall into Catalonia\n",
        "region and which province they belong to.\n",
        "\n",
        "First, you need data representing Catalonia. You can download it from\n",
        "[ICGC](https://www.icgc.cat/en/Downloads/Vector-maps/Administrative-boundaries)\n",
        "website or use the `catalonia.gpkg` saved in this repository."
      ]
    },
    {
      "cell_type": "code",
      "execution_count": null,
      "id": "acd137ff",
      "metadata": {},
      "outputs": [],
      "source": [
        "catalonia = gpd.read_file(\n",
        "    \"https://martinfleischmann.net/sds/geographic_data/data/catalonia.gpkg\",\n",
        ")\n",
        "catalonia.head()"
      ]
    },
    {
      "cell_type": "markdown",
      "id": "0b956043-ee07-4063-867f-e43caf84b42f",
      "metadata": {},
      "source": [
        "> **Alternative**\n",
        ">\n",
        "> Instead of reading the file directly off the web, it is possible to\n",
        "> download it manually, store it on your computer, and read it locally.\n",
        "> To do that, you can follow these steps:\n",
        ">\n",
        "> 1.  Download the file by right-clicking on [this\n",
        ">     link](https://martinfleischmann.net/sds/geographic_data/data/catalonia.gpkg)\n",
        ">     and saving the file\n",
        "> 2.  Place the file in the same folder as the notebook where you intend\n",
        ">     to read it\n",
        "> 3.  Replace the code in the cell above with:\n",
        ">\n",
        "> ``` python\n",
        "> catalonia = gpd.read_file(\"catalonia.gpkg\")\n",
        "> ```\n",
        "\n",
        "Then, you can load the boundaries of Spanish cities from the data\n",
        "repository linked to the paper."
      ]
    },
    {
      "cell_type": "code",
      "execution_count": null,
      "id": "5ae88987",
      "metadata": {},
      "outputs": [],
      "source": [
        "cities = gpd.read_file(\"https://ndownloader.figshare.com/files/20232174\")\n",
        "cities.head()"
      ]
    },
    {
      "cell_type": "markdown",
      "id": "fea03610-7357-4558-bcf9-54c4e13a249d",
      "metadata": {},
      "source": [
        "A quick exploration to better understand what you have just opened might\n",
        "help."
      ]
    },
    {
      "cell_type": "code",
      "execution_count": null,
      "id": "f50b7187",
      "metadata": {},
      "outputs": [],
      "source": [
        "m = catalonia.explore()\n",
        "cities.explore(m=m, color=\"red\")"
      ]
    },
    {
      "cell_type": "markdown",
      "id": "144f0418-ccf6-43f9-8611-4326895796b6",
      "metadata": {},
      "source": [
        "You should check the CRS, because for spatial join, you need to be sure\n",
        "that both `GeoDataFrames` are using the same (but don’t worry,\n",
        "`geopandas` would warn you in case of a CRS mismatch)."
      ]
    },
    {
      "cell_type": "code",
      "execution_count": null,
      "id": "1f7cbd89",
      "metadata": {},
      "outputs": [],
      "source": [
        "catalonia.crs.equals(cities.crs)"
      ]
    },
    {
      "cell_type": "markdown",
      "id": "1ed847d2-5a76-4a8e-8ae0-f3ab7d150c6d",
      "metadata": {},
      "source": [
        "Since these two differ, you can re-project the geometries of `catalonia`\n",
        "to the CRS of `cities`."
      ]
    },
    {
      "cell_type": "code",
      "execution_count": null,
      "id": "cc553b8f",
      "metadata": {},
      "outputs": [],
      "source": [
        "catalonia = catalonia.to_crs(cities.crs)\n",
        "catalonia.crs.equals(cities.crs)"
      ]
    },
    {
      "cell_type": "markdown",
      "id": "7706de6c-c73b-449c-b295-242d4db15c87",
      "metadata": {},
      "source": [
        "Now, you can do the spatial join using the `.sjoin()` method. That uses\n",
        "the `intersects` predicate by default, but you can use any predicates\n",
        "you used above (plus a couple more)."
      ]
    },
    {
      "cell_type": "code",
      "execution_count": 49,
      "id": "1fbf357a",
      "metadata": {},
      "outputs": [],
      "source": [
        "cities_within_catalonia = cities.sjoin(catalonia)"
      ]
    },
    {
      "cell_type": "markdown",
      "id": "c0878604-fc3b-4983-b126-5f71afa146dc",
      "metadata": {},
      "source": [
        "Let’s see the result."
      ]
    },
    {
      "cell_type": "code",
      "execution_count": null,
      "id": "ac7cc1af",
      "metadata": {},
      "outputs": [],
      "source": [
        "print(\n",
        "    f\"Length of cities: {len(cities)}\\n\"\n",
        "    f\"Length of cities_within_catalonia: {len(cities_within_catalonia)}\"\n",
        ")"
      ]
    },
    {
      "cell_type": "markdown",
      "id": "c5d02214-b9b7-4495-8bab-ed0f6149b723",
      "metadata": {},
      "source": [
        "You can check that the resulting subset of cities has additional\n",
        "columns."
      ]
    },
    {
      "cell_type": "code",
      "execution_count": null,
      "id": "0bed1d78",
      "metadata": {},
      "outputs": [],
      "source": [
        "cities_within_catalonia.head(2)"
      ]
    },
    {
      "cell_type": "markdown",
      "id": "12205f20-6260-4322-9d60-87b17900ea5e",
      "metadata": {},
      "source": [
        "You can now plot cities based on the province they belong to, captured\n",
        "by the `\"NOMPROV\"` column."
      ]
    },
    {
      "cell_type": "code",
      "execution_count": null,
      "id": "4788b605",
      "metadata": {},
      "outputs": [],
      "source": [
        "cities_within_catalonia.explore(\n",
        "    \"NOMPROV\",\n",
        "    tiles=\"CartoDB Positron\",\n",
        ")"
      ]
    },
    {
      "cell_type": "markdown",
      "id": "b5bf7853-5664-4046-b9d3-7e927a5e8101",
      "metadata": {},
      "source": [
        "Since `GeoDataFrames` are still based on `pandas.ataFrames`, we can\n",
        "readily use `pandas` functionality, like `.groupby()`, on the result."
      ]
    },
    {
      "cell_type": "code",
      "execution_count": null,
      "id": "7ba69615",
      "metadata": {},
      "outputs": [],
      "source": [
        "cities_within_catalonia.groupby(\"NOMPROV\")[\"n_buildings\"].sum()"
      ]
    },
    {
      "cell_type": "markdown",
      "id": "0eaee8ca-59b8-4669-b94c-ce8cb27f1642",
      "metadata": {},
      "source": [
        "## Overlay\n",
        "\n",
        "Sometimes, you may want to create new geometries based on the spatial\n",
        "relationships between existing geometries. These are called *overlay*\n",
        "operations.\n",
        "\n",
        "Let’s assume that you are interested in areas that are 10 kilometres\n",
        "around a centroid of each city."
      ]
    },
    {
      "cell_type": "code",
      "execution_count": null,
      "id": "6895b4f5",
      "metadata": {},
      "outputs": [],
      "source": [
        "buffered_centroids = cities_within_catalonia.centroid.buffer(10_000)\n",
        "buffered_centroids.explore()"
      ]
    },
    {
      "cell_type": "markdown",
      "id": "fcb3ab93-8010-44ba-8b68-60871bb5e45d",
      "metadata": {},
      "source": [
        "With that, you can ask for an intersection between the buffer and city\n",
        "boundaries.\n",
        "\n",
        "<figure>\n",
        "<img\n",
        "src=\"https://geopandas.org/en/stable/_images/binary_geo-intersection.svg\"\n",
        "alt=\"A diagram illustrating the instersection overlay operation.\" />\n",
        "<figcaption aria-hidden=\"true\">A diagram illustrating the\n",
        "<code>instersection</code> overlay operation.</figcaption>\n",
        "</figure>"
      ]
    },
    {
      "cell_type": "code",
      "execution_count": null,
      "id": "aff89c0d",
      "metadata": {},
      "outputs": [],
      "source": [
        "cities_within_catalonia.overlay(\n",
        "    buffered_centroids.to_frame(), how=\"intersection\"\n",
        ").explore()"
      ]
    },
    {
      "cell_type": "markdown",
      "id": "e731727c-20f0-48c5-b710-d341286e8884",
      "metadata": {},
      "source": [
        "Or you may want to do the union of the two to get the areas that are\n",
        "either within the city boundary or within 10 km of a city centroid.\n",
        "\n",
        "<figure>\n",
        "<img src=\"https://geopandas.org/en/stable/_images/binary_geo-union.svg\"\n",
        "alt=\"A diagram illustrating the union overlay operation.\" />\n",
        "<figcaption aria-hidden=\"true\">A diagram illustrating the\n",
        "<code>union</code> overlay operation.</figcaption>\n",
        "</figure>"
      ]
    },
    {
      "cell_type": "code",
      "execution_count": null,
      "id": "b2aee8de",
      "metadata": {},
      "outputs": [],
      "source": [
        "cities_within_catalonia.overlay(\n",
        "    buffered_centroids.to_frame(), how=\"union\"\n",
        ").explore()"
      ]
    },
    {
      "cell_type": "markdown",
      "id": "a874a8d2-38b5-4fe3-874f-efb1b3ec5969",
      "metadata": {},
      "source": [
        "Or find all parts of city boundaries that are further away than 10km\n",
        "from each centroid.\n",
        "\n",
        "<figure>\n",
        "<img\n",
        "src=\"https://geopandas.org/en/stable/_images/binary_geo-difference.svg\"\n",
        "alt=\"A diagram illustrating the difference overlay operation.\" />\n",
        "<figcaption aria-hidden=\"true\">A diagram illustrating the\n",
        "<code>difference</code> overlay operation.</figcaption>\n",
        "</figure>"
      ]
    },
    {
      "cell_type": "code",
      "execution_count": null,
      "id": "c06a180e",
      "metadata": {},
      "outputs": [],
      "source": [
        "cities_within_catalonia.overlay(\n",
        "    buffered_centroids.to_frame(), how=\"difference\"\n",
        ").explore()"
      ]
    },
    {
      "cell_type": "markdown",
      "id": "802b478e-ac14-4dc5-8036-8370bd92793e",
      "metadata": {},
      "source": [
        "Finally, you may ask which parts of areas are within 10 km or a boundary\n",
        "but not in both.\n",
        "\n",
        "<figure>\n",
        "<img\n",
        "src=\"https://geopandas.org/en/stable/_images/binary_geo-symm_diff.svg\"\n",
        "alt=\"A diagram illustrating symmetric difference overlay operation.\" />\n",
        "<figcaption aria-hidden=\"true\">A diagram illustrating\n",
        "<code>symmetric difference</code> overlay operation.</figcaption>\n",
        "</figure>"
      ]
    },
    {
      "cell_type": "code",
      "execution_count": null,
      "id": "ca21874b",
      "metadata": {},
      "outputs": [],
      "source": [
        "cities_within_catalonia.overlay(\n",
        "    buffered_centroids.to_frame(), how=\"symmetric_difference\"\n",
        ").explore()"
      ]
    },
    {
      "cell_type": "markdown",
      "id": "09e56581-b2f8-4ebe-bf52-d3d3d2c25ff6",
      "metadata": {},
      "source": [
        "If you remember the spatial join between the provinces of Catalonia and\n",
        "Spanish cities, you may remember that some geometries in the result were\n",
        "duplicated because those cities intersect with more than one province.\n",
        "In that case, `.overlay()` may be a better solution. See if you can find\n",
        "the difference."
      ]
    },
    {
      "cell_type": "code",
      "execution_count": null,
      "id": "bf912a1f",
      "metadata": {},
      "outputs": [],
      "source": [
        "catalonia.overlay(cities).explore(\n",
        "    \"NOMPROV\",\n",
        "    tiles=\"CartoDB Positron\",\n",
        ")"
      ]
    },
    {
      "cell_type": "markdown",
      "id": "a89bc53a-e8a5-48b8-84e5-fa6877e5866a",
      "metadata": {},
      "source": [
        "> **Additional reading**\n",
        ">\n",
        "> -   Check the similar introduction by @darribas_gds_course in his part\n",
        ">     [*Spatial\n",
        ">     data*](https://darribas.org/gds_course/content/bC/lab_C.html) to\n",
        ">     learn more about static plots and how to get a background map with\n",
        ">     those.\n",
        "> -   Have a look at the chapter [*Choropleth\n",
        ">     Mapping*](https://geographicdata.science/book/notebooks/05_choropleth.html)\n",
        ">     explaining how to get choropleth maps from the Geographic Data\n",
        ">     Science with Python by @rey2023geographic.\n",
        "\n",
        "## Acknowledgements\n",
        "\n",
        "Delineation of Spanish cities is used following the *A Course on\n",
        "Geographic Data Science* by @darribas_gds_course, licensed under\n",
        "CC-BY-SA 4.0. The section on basic overlay predicates is adapted from\n",
        "the *Introduction to geospatial data analysis with GeoPandas and the\n",
        "PyData stack* by [Joris van den\n",
        "Bossche](https://github.com/jorisvandenbossche/geopandas-tutorial).\n",
        "Illustrations are taken from the [GeoPandas\n",
        "documentation](https://geopandas.org), drawn by Martin Fleischmann."
      ]
    }
  ],
  "metadata": {
    "kernelspec": {
      "display_name": "default",
      "language": "python",
      "name": "python3"
    },
    "language_info": {
      "codemirror_mode": {
        "name": "ipython",
        "version": 3
      },
      "file_extension": ".py",
      "mimetype": "text/x-python",
      "name": "python",
      "nbconvert_exporter": "python",
      "pygments_lexer": "ipython3",
      "version": "3.12.6"
    }
  },
  "nbformat": 4,
  "nbformat_minor": 5
}
