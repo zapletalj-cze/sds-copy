{
 "cells": [
  {
   "cell_type": "markdown",
   "metadata": {},
   "source": [
    "# Does it correlate?\n",
    "\n",
    "In this part, you will try to explore spatial autocorrelation on your own.\n",
    "\n",
    "## Scottish Index of Multiple Deprivation again\n",
    "\n",
    "In the exercise on pandas, you have worked with the Scottish Index of Multiple Deprivation (SIMD). Since you learned how to work with spatial data later, there was no geometry assigned. That will change today.\n",
    "\n",
    "1. Download the ESRI Shapefile version of the Scottish Index of Multiple Deprivation 2020 from this link.\n",
    "2. Read it as a GeoDataFrame and assign a column you think would be the best as an index.\n",
    "3. Backup data.\n",
    "4. Filter the data to work only with Glasgow.\n",
    "5. Create contiguity weights based on the reduced dataset."
   ]
  },
  {
   "cell_type": "code",
   "execution_count": null,
   "metadata": {},
   "outputs": [],
   "source": [
    "import geopandas as gpd\n",
    "import esda\n",
    "import matplotlib.pyplot as plt\n",
    "import seaborn as sns\n",
    "from libpysal import graph"
   ]
  },
  {
   "cell_type": "code",
   "execution_count": null,
   "metadata": {},
   "outputs": [],
   "source": [
    "data = r'C:\\Computation\\Scripts\\Packages\\sds-zapletalj-cze\\05_esda\\data\\SG_SIMD_2020.shp'\n",
    "gdf_simd = gpd.read_file(data)\n",
    "gdf_simd = gdf_simd.set_index(\"DataZone\")\n",
    "\n",
    "gdf_simd_glasgow = gdf_simd.loc[gdf_simd['LAName'] == 'Glasgow City']\n"
   ]
  },
  {
   "cell_type": "markdown",
   "metadata": {},
   "source": [
    "## Global spatial autocorrelation\n",
    "\n",
    "With the data prepared like this:\n",
    "\n",
    "### Join Counts\n",
    "\n",
    "- Create a binary variable from \"Rankv2\" encoding areas with rank above city-wide mean.\n",
    "- Measure Join Counts statistic on your new variable.\n",
    "- What conclusions can you reach from the Join Counts?\n"
   ]
  },
  {
   "cell_type": "code",
   "execution_count": null,
   "metadata": {},
   "outputs": [],
   "source": [
    "mean_rank = gdf_simd_glasgow['Rankv2'].mean()\n",
    "# build contiguity\n",
    "contiguity = graph.Graph.build_contiguity(gdf_simd_glasgow, rook=False)\n",
    "gdf_simd_glasgow.loc[:, \"bin_rank\"] = (gdf_simd_glasgow[\"Rankv2\"] > mean_rank).astype(int)\n",
    "\n",
    "gdf_simd_glasgow_join_counts = esda.Join_Counts(\n",
    "    gdf_simd_glasgow[\"bin_rank\"],\n",
    "    contiguity\n",
    ")\n",
    "\n",
    "\n"
   ]
  },
  {
   "cell_type": "markdown",
   "metadata": {},
   "source": [
    "### Moran’s I\n",
    "\n",
    "- Visualise the main \"Rankv2\" with a Moran Plot.\n",
    "- Calculate Moran’s I.\n",
    "- What conclusions can you reach from the Moran Plot and Moran’s I? What’s the main spatial pattern? Does it agree with Join counts?"
   ]
  },
  {
   "cell_type": "code",
   "execution_count": null,
   "metadata": {},
   "outputs": [],
   "source": [
    "# data standardization\n",
    "gdf_simd_glasgow[\"std_Rankv2\"] = (\n",
    "    gdf_simd_glasgow[\"Rankv2\"] - gdf_simd_glasgow[\"Rankv2\"].mean()\n",
    ") / gdf_simd_glasgow[\"Rankv2\"].std()\n",
    "\n",
    "# transform contiguity\n",
    "contiguity_r = contiguity.transform(\"r\")\n",
    "\n",
    "gdf_simd_glasgow[\"std_lag_Rankv2\"] = contiguity_r.lag(gdf_simd_glasgow[\"std_Rankv2\"])\n",
    "\n",
    "# Moran's I\n",
    "moran = esda.Moran(gdf_simd_glasgow[\"Rankv2\"], contiguity)\n",
    "f, ax = plt.subplots(1, figsize=(6, 6))\n",
    "sns.regplot(\n",
    "    x=\"std_Rankv2\",\n",
    "    y=\"std_lag_Rankv2\",\n",
    "    data=gdf_simd_glasgow,\n",
    "    marker=\".\",\n",
    "    scatter_kws={\"alpha\": 0.2},\n",
    "    line_kws=dict(color=\"lightcoral\")\n",
    ")\n",
    "ax.set_aspect('equal')\n",
    "plt.axvline(0, c=\"black\", alpha=0.5)\n",
    "plt.axhline(0, c=\"black\", alpha=0.5)\n",
    "plt.text(2.3, 2.7, \"High-high\", fontsize=10)\n",
    "plt.text(2.3, -2.7, \"High-low\", fontsize=10)\n",
    "plt.text(-4.4, 2.7, \"Low-high\", fontsize=10)\n",
    "plt.text(-4.4, -2.7, \"Low-low\", fontsize=10)"
   ]
  },
  {
   "cell_type": "markdown",
   "metadata": {},
   "source": [
    "## Local spatial autocorrelation\n",
    "\n",
    "Now that you have a good sense of the overall pattern in the SIMD dataset, let’s move to the local scale:\n",
    "\n",
    "1. Calculate LISA statistics for the areas.\n",
    "2. Make a map of significant clusters at the 5% level.\n",
    "3. Can you identify hotspots or coldspots? If so, what do they mean? What about spatial outliers?\n",
    "- Hot spots - areas with higher values of the variable. In Glasgow, there is clustering of areas with high values (Kelvinside, Crossmyloof).\n",
    "- Cold spots - areas with lower values of the variable. In Glasgow, there is clustering of areas with low values (Barrowfield, Possilpark).\n",
    "\n"
   ]
  },
  {
   "cell_type": "code",
   "execution_count": null,
   "metadata": {},
   "outputs": [],
   "source": [
    "lisa = esda.Moran_Local(gdf_simd_glasgow['std_Rankv2'], contiguity_r)\n",
    "gdf_simd_glasgow['cluster'] = lisa.get_cluster_labels(crit_value=0.05)\n",
    "\n",
    "lisa.explore(\n",
    "  gdf_simd_glasgow,\n",
    "  crit_value=0.05,\n",
    "  prefer_canvas=True,\n",
    "  tiles=\"CartoDB Positron\",\n",
    ")"
   ]
  },
  {
   "cell_type": "markdown",
   "metadata": {},
   "source": [
    "\n",
    "### Warning\n",
    "\n",
    "The last action is a bit more sophisticated, put all your brain power into it and you’ll achieve it!\n",
    "\n",
    "- Create cluster maps for significance levels 1% and 10%; compare them with the one we obtained. What are the main changes? Why?\n",
    "- Create a single map that combines all three significance levels and changes the alpha to distinguish them.\n",
    "- Can you create both interactive and static versions of those maps?"
   ]
  },
  {
   "cell_type": "code",
   "execution_count": null,
   "metadata": {},
   "outputs": [],
   "source": [
    "gdf_simd_glasgow.loc[:, 'cluster10'] = lisa.get_cluster_labels(crit_value=0.1)\n",
    "gdf_simd_glasgow.loc[:, 'cluster1'] = lisa.get_cluster_labels(crit_value=0.01)\n",
    "gdf_simd_glasgow.loc[:, 'cluster5'] = lisa.get_cluster_labels(crit_value=0.05)\n",
    "\n",
    "\n",
    "# create interactive map\n",
    "m = lisa.explore(\n",
    "    gdf = gdf_simd_glasgow,\n",
    "    tiles='CartoDB Positron')\n",
    "\n",
    "n = lisa.explore(gdf_simd_glasgow, m = m, crit_value=0.1, alpha=0.01)\n",
    "\n",
    "o = lisa.explore(gdf_simd_glasgow, m = n, crit_value=0.05, alpha=0.3)\n",
    "\n",
    "lisa.explore(gdf_simd_glasgow, m = o, crit_value=0.01, alpha=0.7)"
   ]
  },
  {
   "cell_type": "code",
   "execution_count": null,
   "metadata": {},
   "outputs": [],
   "source": [
    "# create three subplots\n",
    "\n",
    "fig, axs = plt.subplots(1, 3, figsize=(18, 6))\n",
    "\n",
    "# Plot for 10% significance level\n",
    "gdf_simd_glasgow.loc[gdf_simd_glasgow[\"cluster10\"] == \"Insignificant\"].plot(ax=axs[0], color=\"lightgrey\")\n",
    "gdf_simd_glasgow.loc[(gdf_simd_glasgow[\"cluster10\"] == \"High-High\")].plot(ax=axs[0], color=\"#d7191c\")\n",
    "gdf_simd_glasgow.loc[(gdf_simd_glasgow[\"cluster10\"] == \"Low-Low\")].plot(ax=axs[0], color=\"#2c7bb6\")\n",
    "gdf_simd_glasgow.loc[(gdf_simd_glasgow[\"cluster10\"] == \"Low-High\")].plot(ax=axs[0], color=\"#abd9e9\")\n",
    "gdf_simd_glasgow.loc[(gdf_simd_glasgow[\"cluster10\"] == \"High-Low\")].plot(ax=axs[0], color=\"#fdae61\")\n",
    "axs[0].set_title('10% Significance Level')\n",
    "\n",
    "# Plot for 5% significance level\n",
    "gdf_simd_glasgow.loc[gdf_simd_glasgow[\"cluster5\"] == \"Insignificant\"].plot(ax=axs[1], color=\"lightgrey\")\n",
    "gdf_simd_glasgow.loc[(gdf_simd_glasgow[\"cluster5\"] == \"High-High\")].plot(ax=axs[1], color=\"#d7191c\")\n",
    "gdf_simd_glasgow.loc[(gdf_simd_glasgow[\"cluster5\"] == \"Low-Low\")].plot(ax=axs[1], color=\"#2c7bb6\")\n",
    "gdf_simd_glasgow.loc[(gdf_simd_glasgow[\"cluster5\"] == \"Low-High\")].plot(ax=axs[1], color=\"#abd9e9\")\n",
    "gdf_simd_glasgow.loc[(gdf_simd_glasgow[\"cluster5\"] == \"High-Low\")].plot(ax=axs[1], color=\"#fdae61\")\n",
    "axs[1].set_title('5% Significance Level')\n",
    "\n",
    "# Plot for 1% significance level\n",
    "gdf_simd_glasgow.loc[gdf_simd_glasgow[\"cluster1\"] == \"Insignificant\"].plot(ax=axs[2], color=\"lightgrey\")\n",
    "gdf_simd_glasgow.loc[(gdf_simd_glasgow[\"cluster1\"] == \"High-High\")].plot(ax=axs[2], color=\"#d7191c\")\n",
    "gdf_simd_glasgow.loc[(gdf_simd_glasgow[\"cluster1\"] == \"Low-Low\")].plot(ax=axs[2], color=\"#2c7bb6\")\n",
    "gdf_simd_glasgow.loc[(gdf_simd_glasgow[\"cluster1\"] == \"Low-High\")].plot(ax=axs[2], color=\"#abd9e9\")\n",
    "gdf_simd_glasgow.loc[(gdf_simd_glasgow[\"cluster1\"] == \"High-Low\")].plot(ax=axs[2], color=\"#fdae61\")\n",
    "axs[2].set_title('1% Significance Level')\n",
    "\n",
    "plt.tight_layout()\n",
    "plt.show()"
   ]
  }
 ],
 "metadata": {
  "kernelspec": {
   "display_name": "default",
   "language": "python",
   "name": "python3"
  },
  "language_info": {
   "codemirror_mode": {
    "name": "ipython",
    "version": 3
   },
   "file_extension": ".py",
   "mimetype": "text/x-python",
   "name": "python",
   "nbconvert_exporter": "python",
   "pygments_lexer": "ipython3",
   "version": "3.12.6"
  }
 },
 "nbformat": 4,
 "nbformat_minor": 2
}
