{
 "cells": [
  {
   "cell_type": "code",
   "execution_count": 28,
   "id": "d33cc8a9-f91a-4d6b-a808-ea782c9842fb",
   "metadata": {},
   "outputs": [],
   "source": [
    "# import libraries\n",
    "from math import *"
   ]
  },
  {
   "cell_type": "code",
   "execution_count": 29,
   "id": "fc6e6314-c621-48dd-b1e4-4c55eddcb00a",
   "metadata": {},
   "outputs": [],
   "source": [
    "## convert wiki page to markdown"
   ]
  },
  {
   "cell_type": "markdown",
   "id": "5258fc31-a77a-4046-b128-f3a215344f54",
   "metadata": {},
   "source": [
    "# Tobler's first law of geography\n",
    "---\n",
    "From Wikipedia, the free encyclopedia\n",
    "\n",
    "Waldo Tobler in front of the Newberry Library. Chicago, November 2007\n",
    "The First Law of Geography, according to Waldo Tobler, is \"everything is related to everything else, but near things are more related than distant things.\"[1] This first law is the foundation of the fundamental concepts of spatial dependence and spatial autocorrelation and is utilized specifically for the inverse distance weighting method for spatial interpolation and to support the regionalized variable theory for kriging.[2] The first law of geography is the fundamental assumption used in all spatial analysis.[3]\n",
    "\n",
    "![Waldo Tobler in front of the Newberry Library. Chicago, November 2007](./img/walda.jpg)\n",
    "---\n",
    "## Background\n",
    "Tobler first presented his seminal idea during a meeting of the International Geographical Union's Commission on Qualitative Methods held in 1969 and later published by him in 1970 in his publication \"A Computer Movie Simulating Urban Growth in the Detroit Region\".[1] In this paper Tobler created a model of the population growth in Detroit, and was discussing variables included within the model, and Tobler was probably not extremely serious when he originally invoked the first law and instead was explaining limitations brought about by computers of the 1970s.[1][3] He certainly did not think it would be as prominent in geography as it is today.[3] Though simple in its presentation, this idea is profound. Without it, \"the full range of conditions anywhere on the Earth's surface could be packed within any small area. There would be no regions of approximately homogeneous conditions to be described by giving attributes to area objects. Topographic surfaces would vary chaotically, with infinite slopes everywhere, and the contours of such surfaces would be infinitely dense and contorted. Spatial analysis, and indeed life itself, would be impossible.\"[4]\n",
    "\n",
    "While Tobler is the first to present the concept as the first law of geography, it existed in some form as a concept before him. In 1935, R.A. Fisher said \"the widely verified fact that patches in close proximity are commonly more alike, as judged by the yield of crops, than those which are further apart.\"[5][6] Tobler was made aware of this by a peer-reviewer, and seems to have come up with the first law independently.[5]\n",
    "\n",
    "Tobler's law was proposed towards the end of the quantitative revolution in geography, which saw a shift towards using systematic and scientific methods in geography. This paradigm shifted the discipline from idiographic geography to an empirical law-making nomothetic geography.[7][8] This law-making approach was conducive to the acceptance of Tobler's law, and Tobler's law can be seen as a direct product of the quantitative revolution.[9]\n",
    "\n",
    "In 2003, the American Association of Geographers held a panel titled \"On Tobler's First Law of Geography,\" with panelists selected to represent diverse geographic interests and their philosophical perspective on Tobler's First Law.[10] In 2004, the peer reviewed journal Annals of the Association of American Geographers included a section titled \"Methods, Models, and GIS Forum: On Tobler's First Law of Geography\" that contained several peer-reviewed papers from members of the 2003 panel.[11] Of note, this section also had a paper by Tobler titled \"On the First Law of Geography: A Reply,\" which contained his response to the 2003 panel and insight into the first law.[5] In this publication, Tobler discussed his less well known second law, which complements the first:\n",
    "\n",
    "\"The phenomenon external to an area of interest affects what goes on inside.\"\n",
    "\n",
    "— Waldo Tobler\n",
    "\n",
    "\n",
    "### Three forms of spatial interpolation.\n",
    "\n",
    "\n",
    "\n",
    "\n",
    "\n",
    "| ![Nearest neighbor](./img/nn_interpol.png)    | ![Bilinear interpolation](./img/bilinear_interpol.png) | ![Bicubic interpolation](./img/bicubic_interpol.png) |\n",
    "|--------------------------------------|----------|----------|\n",
    "| Nearest neighbor                               | BIlinear interpolation | Bicubic interpolation |\n",
    "\n",
    "## Foundation\n",
    "---\n",
    "The theory is based upon the concept of the friction of distance \"where distance itself hinders interaction between places. The farther two places are apart, the greater the hindrance\",[12] or cost. For example, one is less likely to travel across town to purchase a sandwich than walk to the corner store for the same sandwich. In this example, hindrance, or cost, can readily be counted in time (amount of time as well as the value of time), transportation costs, and personal muscle energy loss which are added to the purchase price and thus result in high levels of friction. The friction of distance and the increase in cost combine, causing the distance decay effect.\n",
    "\n",
    "## Controversy\n",
    "---\n",
    "Some have disputed the usefulness and validity of Tobler's first law.[5][13] In general, some also dispute the entire concept of laws in geography and the social sciences. These criticisms have been addressed by Tobler and others.[5]\n",
    "\n",
    "An anonymous reviewer pointed out that Tobler's first law is remarkably close to a phrase in a book by R.A. Fisher in 1935.[5][6] Tobler seems to have come up with the first law independently.[5]\n",
    "\n",
    "Some view Tobler's first law to be limited and have proposed amendments. One example of such an amendment proposed by Robert T. Walker combines Tobler's first law with von Thünen's concept of accessibility to offer an explanation for the description provided by Tobler.[9] The resulting law, referred to by Walker as \"The Tobler-von Thünen law,\" is:\n",
    "\n",
    "″Everything is related to everything else, but near things are more related than distant things, as a consequence of accessibility.\"\n",
    "\n",
    "— Robert T. Walker, [9]\n",
    "\n",
    "\n",
    "## See also:\n",
    "\n",
    "|                           |                             |\n",
    "|----------------------------------------|-------------------------------------------|\n",
    "| - Arbia's law of geography             | - Modifiable temporal unit problem        |\n",
    "| - Cartography                          | - Moran's I                               |\n",
    "| - Concepts and Techniques in Modern Geography | - Quantitative geography              |\n",
    "| - Geographic information science       | - Scientific law                          |\n",
    "| - Geographic information systems       | - Spatial heterogeneity                   |\n",
    "| - Indicators of spatial association    | - Technical geography                     |\n",
    "| - Inverse distance weighting           | - Time geography                          |\n",
    "| - Inverse-square law                   | - The Isolated State                      |\n",
    "| - Level of analysis                    | - Uncertain geographic context problem    |\n",
    "| - Modifiable areal unit problem        | - Waldo Tobler bibliography               |\n",
    "\n",
    "\n",
    "\n",
    "## References\n",
    "1. Tobler, W. R. (1970). \"A Computer Movie Simulating Urban Growth in the Detroit Region\". Economic Geography. 46: 234–240. doi:10.2307/143141. ISSN 0013-0095. JSTOR 143141. Retrieved 2023-10-02.\n",
    " Kemp, Karen. Encyclopedia of Geographic Information Science, SAGE, 2008, pp 146–147\n",
    "2. Miller, Harvey (2004). \"Tobler's First Law and Spatial Analysis\". Annals of the Association of American Geographers. 94 (2): 284–289. doi:10.1111/j.1467-8306.2004.09402005.x. S2CID 19172678.\n",
    "3. Tobler, Waldo (2004). \"On the First Law of Geography: A Reply\". Annals of the Association of American Geographers. 94 (2): 304–310. doi:10.1111/j.1467-8306.2004.09402009.x. S2CID 33201684. Retrieved 10 March 2022.\n",
    "4. Fisher, R. A. (1935). The design of experiments. Edinburgh: Oliver and Boyd.\n",
    "5. Yano, Keiji (2001). \"GIS and quantitative geography\". GeoJournal. 52 (3): 173–180. doi:10.1023/A:1014252827646. S2CID 126943446.\n",
    "6. Sui, Daniel Z. (June 2004). \"Tobler's First Law of Geography: A Big Idea for a Small World?\". Annals of the Association of American Geographers. 94 (2): 269–277. doi:10.1111/j.1467-8306.2004.09402003.x. S2CID 143904098.\n",
    "7. De Smith, Michael John; Goodchild, Michael F.; Longley, Paul. Geospatial Analysis: A Comprehensive Guide to Principles, Techniques and Software Tools, Troubador Publishing Ltd, 2007, p44\n",
    "8. \"Methods, Models, and GIS Forum: On Tobler's First Law of Geography\". Annals of the Association of American Geographers. 94 (2). 2004. Retrieved 28 September 2023.\n",
    " Marsh, Meredith; Alagona, Peter S. \"AP Human Geography 2008\", Barron's Educational Series, 91–92, 2008\n",
    "9. Goodchild, Michael (2004). \"The Validity and Usefulness of Laws in Geographic Information Science and Geography\". Annals of the Association of American Geographers. 94 (2): 300–303. doi:10.1111/j.1467-8306.2004.09402008.x. S2CID 17912938.\n",
    "10.  Walker, Robert Toovey (28 Apr 2021). \"Geography, Von Thünen, and Tobler's first law: Tracing the evolution of a concept\". Geographical Review. 112 (4): 591–607. doi:10.1080/00167428.2021.1906670. S2CID 233620037.\n",
    "11.  DeLyser, Dydia; Herbert, Steve; Aitken, Stuart; Crang, Mike; McDowell, Linda (November 2009). The SAGE Handbook of Qualitative Geography (1 ed.). SAGE Publications. ISBN 9781412919913. Retrieved 27 April 2023.\n",
    "\n",
    "\n",
    "\n",
    "\n",
    " "
   ]
  },
  {
   "cell_type": "markdown",
   "id": "7a542c67-8dbe-4de6-af30-e231c6bdafe2",
   "metadata": {},
   "source": [
    "## Math playground\n",
    "### 1. Logarithms"
   ]
  },
  {
   "cell_type": "code",
   "execution_count": 30,
   "id": "e7a3f40f-1c47-415c-9dfb-2ac70de77f42",
   "metadata": {},
   "outputs": [
    {
     "name": "stdout",
     "output_type": "stream",
     "text": [
      "Variable a: 10.4830201\n",
      "Round a: 10.48\n",
      "Original value a: 10.4830201, natural logarithm: 2.3497568148586576, returned original value: 10.4830201\n",
      "Original value a: 10.4830201, Logarithm with base 10: 1.0204864185076759\n"
     ]
    }
   ],
   "source": [
    "a = 10.4830201\n",
    "a_round = round(a, 2)\n",
    "a_log = log(a)\n",
    "a_back = exp(a_log)\n",
    "a_log_base_ten = log10(a)\n",
    "\n",
    "\n",
    "print(f'Variable a: {a}')\n",
    "print(f'Round a: {a_round}')\n",
    "print(f'Original value a: {a}, natural logarithm: {a_log}, returned original value: {round(a_back, 7)}')\n",
    "print(f'Original value a: {a}, Logarithm with base 10: {a_log_base_ten}')\n",
    "\n",
    "\n",
    "\n",
    "\n",
    "\n"
   ]
  },
  {
   "cell_type": "code",
   "execution_count": 31,
   "id": "02b3da68-9feb-4c6f-97c0-9c350c99d077",
   "metadata": {},
   "outputs": [],
   "source": [
    "### 2. Angle conversion"
   ]
  },
  {
   "cell_type": "code",
   "execution_count": 32,
   "id": "034475e4-2bd5-4332-b733-cc0cf936ea65",
   "metadata": {},
   "outputs": [
    {
     "name": "stdout",
     "output_type": "stream",
     "text": [
      "Angle radians: 0.5, conversion to degrees: 28.64788975654116, conversion back to radians: 0.5\n"
     ]
    }
   ],
   "source": [
    "angle_rad = 0.5\n",
    "angle_deg = degrees(angle_rad)\n",
    "angle_rad_back = radians(angle_deg)\n",
    "print(f'Angle radians: {angle_rad}, conversion to degrees: {angle_deg}, conversion back to radians: {angle_rad_back}')\n",
    "\n"
   ]
  },
  {
   "cell_type": "markdown",
   "id": "8ec261ec-6a0b-4b19-9bad-7c35f054fbfa",
   "metadata": {},
   "source": [
    "### 3. Math constants\n",
    "* Math nan stands for non number value\n",
    "* Available constants in math lib:\n",
    "  \n",
    "| Constant   | Value               |\n",
    "|:-----------|:--------------------|\n",
    "| `math.e`   | 2.718281828459045   |\n",
    "| `math.pi`  | 3.141592653589793   |\n",
    "| `math.tau` | 6.283185307179586   |\n",
    "| `math.inf` | ∞ (Infinity)        |\n",
    "| `math.nan` | NaN                 |\n",
    "\n",
    "From: [Python Math Library Constants](https://docs.python.org/3/library/math.html#constants)\n",
    "\n",
    "\n"
   ]
  }
 ],
 "metadata": {
  "kernelspec": {
   "display_name": "Python 3 (ipykernel)",
   "language": "python",
   "name": "python3"
  },
  "language_info": {
   "codemirror_mode": {
    "name": "ipython",
    "version": 3
   },
   "file_extension": ".py",
   "mimetype": "text/x-python",
   "name": "python",
   "nbconvert_exporter": "python",
   "pygments_lexer": "ipython3",
   "version": "3.12.6"
  }
 },
 "nbformat": 4,
 "nbformat_minor": 5
}
