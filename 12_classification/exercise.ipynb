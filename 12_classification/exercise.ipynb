{
 "cells": [
  {
   "cell_type": "markdown",
   "metadata": {},
   "source": [
    "# Predict Future\n",
    "\n",
    "In this part, you will not start anything new but will continue working with the data from Prague from the previous section and get a bit deeper into the problem. Not everything has been covered in class, so consult the documentation when unsure.\n",
    "\n",
    "## Continue with Classification\n",
    "\n",
    "### 1. Explore the Classification Problem Further\n",
    "- **Try different combinations of independent variables.**\n",
    "  - Does it make sense to combine proximity variables with spatial heterogeneity? Test that.\n",
    "  - Contrary to what you may expect, removing some variables with low importance can improve performance. Is this the case in our situation?\n",
    "  - Find the best combination of variables. How far can you push accuracy?"
   ]
  },
  {
   "cell_type": "code",
   "execution_count": 1,
   "metadata": {},
   "outputs": [],
   "source": [
    "import geopandas as gpd\n",
    "import matplotlib.pyplot as plt\n",
    "import numpy as np\n",
    "import pandas as pd\n",
    "import shapely\n",
    "from libpysal import graph\n",
    "from sklearn import ensemble, metrics, model_selection"
   ]
  },
  {
   "cell_type": "code",
   "execution_count": 2,
   "metadata": {},
   "outputs": [
    {
     "name": "stderr",
     "output_type": "stream",
     "text": [
      "c:\\Computation\\Scripts\\Packages\\sds-zapletalj-cze\\.pixi\\envs\\default\\Lib\\site-packages\\pyogrio\\core.py:26: RuntimeWarning: Could not detect GDAL data files.  Set GDAL_DATA environment variable to the correct path.\n",
      "  _init_gdal_data()\n"
     ]
    },
    {
     "data": {
      "text/html": [
       "<div>\n",
       "<style scoped>\n",
       "    .dataframe tbody tr th:only-of-type {\n",
       "        vertical-align: middle;\n",
       "    }\n",
       "\n",
       "    .dataframe tbody tr th {\n",
       "        vertical-align: top;\n",
       "    }\n",
       "\n",
       "    .dataframe thead th {\n",
       "        text-align: right;\n",
       "    }\n",
       "</style>\n",
       "<table border=\"1\" class=\"dataframe\">\n",
       "  <thead>\n",
       "    <tr style=\"text-align: right;\">\n",
       "      <th></th>\n",
       "      <th>cluster</th>\n",
       "      <th>floor_area_ratio</th>\n",
       "      <th>height</th>\n",
       "      <th>compactness</th>\n",
       "      <th>street_alignment</th>\n",
       "      <th>interbuilding_distance</th>\n",
       "      <th>block_perimeter_wall_length</th>\n",
       "      <th>basic_settlement_unit</th>\n",
       "      <th>cadastral zone</th>\n",
       "      <th>geometry</th>\n",
       "    </tr>\n",
       "  </thead>\n",
       "  <tbody>\n",
       "    <tr>\n",
       "      <th>0</th>\n",
       "      <td>large-scale industry</td>\n",
       "      <td>0.614375</td>\n",
       "      <td>23.458</td>\n",
       "      <td>0.747131</td>\n",
       "      <td>10.601522</td>\n",
       "      <td>37.185479</td>\n",
       "      <td>57.751467</td>\n",
       "      <td>U cementárny</td>\n",
       "      <td>Radotín</td>\n",
       "      <td>POINT (-749841.681 -1052279.951)</td>\n",
       "    </tr>\n",
       "    <tr>\n",
       "      <th>1</th>\n",
       "      <td>medieval city</td>\n",
       "      <td>2.993299</td>\n",
       "      <td>16.099</td>\n",
       "      <td>0.469154</td>\n",
       "      <td>8.655982</td>\n",
       "      <td>8.547983</td>\n",
       "      <td>1033.921828</td>\n",
       "      <td>Horní malostranský obvod</td>\n",
       "      <td>Malá Strana</td>\n",
       "      <td>POINT (-744432.289 -1042699.409)</td>\n",
       "    </tr>\n",
       "    <tr>\n",
       "      <th>2</th>\n",
       "      <td>periphery</td>\n",
       "      <td>0.108374</td>\n",
       "      <td>3.673</td>\n",
       "      <td>0.498831</td>\n",
       "      <td>2.473966</td>\n",
       "      <td>26.135688</td>\n",
       "      <td>74.432812</td>\n",
       "      <td>Dolní Měcholupy-střed</td>\n",
       "      <td>Dolní Měcholupy</td>\n",
       "      <td>POINT (-733300.261 -1048136.856)</td>\n",
       "    </tr>\n",
       "    <tr>\n",
       "      <th>3</th>\n",
       "      <td>periphery</td>\n",
       "      <td>0.290723</td>\n",
       "      <td>9.097</td>\n",
       "      <td>0.627294</td>\n",
       "      <td>6.054875</td>\n",
       "      <td>32.423481</td>\n",
       "      <td>38.592030</td>\n",
       "      <td>Trojský obvod</td>\n",
       "      <td>Troja</td>\n",
       "      <td>POINT (-742468.177 -1039691.997)</td>\n",
       "    </tr>\n",
       "    <tr>\n",
       "      <th>4</th>\n",
       "      <td>grids</td>\n",
       "      <td>0.017193</td>\n",
       "      <td>4.216</td>\n",
       "      <td>0.540439</td>\n",
       "      <td>0.134446</td>\n",
       "      <td>48.068409</td>\n",
       "      <td>49.125654</td>\n",
       "      <td>Vrch Svatého kříže</td>\n",
       "      <td>Žižkov</td>\n",
       "      <td>POINT (-740093.985 -1043857.813)</td>\n",
       "    </tr>\n",
       "  </tbody>\n",
       "</table>\n",
       "</div>"
      ],
      "text/plain": [
       "                cluster  floor_area_ratio  height  compactness  \\\n",
       "0  large-scale industry          0.614375  23.458     0.747131   \n",
       "1         medieval city          2.993299  16.099     0.469154   \n",
       "2             periphery          0.108374   3.673     0.498831   \n",
       "3             periphery          0.290723   9.097     0.627294   \n",
       "4                 grids          0.017193   4.216     0.540439   \n",
       "\n",
       "   street_alignment  interbuilding_distance  block_perimeter_wall_length  \\\n",
       "0         10.601522               37.185479                    57.751467   \n",
       "1          8.655982                8.547983                  1033.921828   \n",
       "2          2.473966               26.135688                    74.432812   \n",
       "3          6.054875               32.423481                    38.592030   \n",
       "4          0.134446               48.068409                    49.125654   \n",
       "\n",
       "      basic_settlement_unit   cadastral zone                          geometry  \n",
       "0              U cementárny          Radotín  POINT (-749841.681 -1052279.951)  \n",
       "1  Horní malostranský obvod      Malá Strana  POINT (-744432.289 -1042699.409)  \n",
       "2     Dolní Měcholupy-střed  Dolní Měcholupy  POINT (-733300.261 -1048136.856)  \n",
       "3             Trojský obvod            Troja  POINT (-742468.177 -1039691.997)  \n",
       "4        Vrch Svatého kříže           Žižkov  POINT (-740093.985 -1043857.813)  "
      ]
     },
     "execution_count": 2,
     "metadata": {},
     "output_type": "execute_result"
    }
   ],
   "source": [
    "gdf_buildings = gpd.read_file(\n",
    "  \"https://martinfleischmann.net/sds/classification/data/prg_building_locations.gpkg\",\n",
    ")\n",
    "gdf_buildings.head()"
   ]
  },
  {
   "cell_type": "code",
   "execution_count": 3,
   "metadata": {},
   "outputs": [],
   "source": [
    "independent_variables = [\n",
    "    \"floor_area_ratio\",\n",
    "    \"height\",\n",
    "    \"compactness\",\n",
    "    \"street_alignment\",\n",
    "    \"interbuilding_distance\",\n",
    "    \"block_perimeter_wall_length\",\n",
    "]\n",
    "\n",
    "training_sample = gdf_buildings.sample(20_000, random_state=0)\n"
   ]
  },
  {
   "cell_type": "code",
   "execution_count": 4,
   "metadata": {},
   "outputs": [],
   "source": [
    "## add proximity variables\n",
    "old_town_square = (\n",
    "    gpd.tools.geocode(\"Old Town Square, Prague\", provider=\"nominatim\", user_agent=\"sds\")\n",
    "    .to_crs(gdf_buildings.crs)\n",
    "    .geometry.item()\n",
    ")\n",
    "training_sample[\"distance_to_old_town\"] = training_sample.distance(old_town_square)\n",
    "\n",
    "# add spatial heterogenenity\n",
    "training_sample[[\"x\", \"y\"]] = training_sample.get_coordinates()\n"
   ]
  },
  {
   "cell_type": "code",
   "execution_count": 5,
   "metadata": {},
   "outputs": [],
   "source": []
  },
  {
   "cell_type": "markdown",
   "metadata": {},
   "source": [
    "### 2. Test Other ML Models\n",
    "- **Experiment with models other than random forest.**\n",
    "  - Compare the same input using different models, such as:\n",
    "    - `HistGradientBoostingClassifier`\n",
    "    - `DecisionTreeClassifier`\n",
    "    - `AdaBoostClassifier`\n",
    "  - Determine which model performs the best with default hyperparameters."
   ]
  },
  {
   "cell_type": "markdown",
   "metadata": {},
   "source": []
  },
  {
   "cell_type": "markdown",
   "metadata": {},
   "source": [
    "### 3. Refine Your Results\n",
    "- **Pick your favorite model and identify prediction certainty clusters.**\n",
    "  - Find clusters with high and low prediction certainty.\n",
    "- **Fine-tune the models using grid search.**"
   ]
  },
  {
   "cell_type": "markdown",
   "metadata": {},
   "source": []
  }
 ],
 "metadata": {
  "kernelspec": {
   "display_name": "default",
   "language": "python",
   "name": "python3"
  },
  "language_info": {
   "codemirror_mode": {
    "name": "ipython",
    "version": 3
   },
   "file_extension": ".py",
   "mimetype": "text/x-python",
   "name": "python",
   "nbconvert_exporter": "python",
   "pygments_lexer": "ipython3",
   "version": "3.12.6"
  }
 },
 "nbformat": 4,
 "nbformat_minor": 2
}
